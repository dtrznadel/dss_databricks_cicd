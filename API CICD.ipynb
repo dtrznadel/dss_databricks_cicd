{
 "cells": [
  {
   "cell_type": "code",
   "execution_count": 0,
   "metadata": {
    "application/vnd.databricks.v1+cell": {
     "cellMetadata": {
      "byteLimit": 2048000,
      "rowLimit": 10000
     },
     "inputWidgets": {},
     "nuid": "85f0bf50-7e95-462d-8890-7a93b6f95428",
     "showTitle": true,
     "tableResultSettingsMap": {},
     "title": "Import libraries"
    }
   },
   "outputs": [],
   "source": [
    "import requests\n",
    "import json"
   ]
  },
  {
   "cell_type": "code",
   "execution_count": 0,
   "metadata": {
    "application/vnd.databricks.v1+cell": {
     "cellMetadata": {
      "byteLimit": 2048000,
      "rowLimit": 10000
     },
     "inputWidgets": {},
     "nuid": "e923cb1a-5ca1-4b95-aadf-ac6dffe668de",
     "showTitle": true,
     "tableResultSettingsMap": {},
     "title": "get input from env"
    }
   },
   "outputs": [],
   "source": [
    "API_URL = \"https://\" + spark.conf.get(\"spark.databricks.workspaceUrl\") + \"/api/2.1\"\n",
    "TOKEN = dbutils.notebook.entry_point.getDbutils().notebook().getContext().apiToken().getOrElse(None)"
   ]
  },
  {
   "cell_type": "code",
   "execution_count": 0,
   "metadata": {
    "application/vnd.databricks.v1+cell": {
     "cellMetadata": {
      "byteLimit": 2048000,
      "rowLimit": 10000
     },
     "inputWidgets": {},
     "nuid": "020aa79c-760e-4154-b6ea-303209954a0a",
     "showTitle": true,
     "tableResultSettingsMap": {},
     "title": "get headers"
    }
   },
   "outputs": [],
   "source": [
    "headers = {\"Authorization\": f\"Bearer {TOKEN}\",\n",
    "        \"Content-Type\": \"application/json\"}"
   ]
  },
  {
   "cell_type": "code",
   "execution_count": 0,
   "metadata": {
    "application/vnd.databricks.v1+cell": {
     "cellMetadata": {
      "byteLimit": 2048000,
      "rowLimit": 10000
     },
     "inputWidgets": {},
     "nuid": "632699ea-b987-4639-8350-6371b838aa2b",
     "showTitle": false,
     "tableResultSettingsMap": {},
     "title": ""
    }
   },
   "outputs": [
    {
     "output_type": "execute_result",
     "data": {
      "text/plain": [
       "{'jobs': [{'job_id': 326702552191924,\n",
       "   'creator_user_name': 'adam.kowalski@cloudfide.com',\n",
       "   'run_as_user_name': 'adam.kowalski@cloudfide.com',\n",
       "   'settings': {'name': 'Databricks Training Workflow - Part 3',\n",
       "    'email_notifications': {'no_alert_for_skipped_runs': False},\n",
       "    'timeout_seconds': 0,\n",
       "    'max_concurrent_runs': 1,\n",
       "    'format': 'MULTI_TASK',\n",
       "    'queue': {'enabled': True}},\n",
       "   'created_time': 1726806862052},\n",
       "  {'job_id': 801728839614968,\n",
       "   'creator_user_name': 'adam.kowalski@cloudfide.com',\n",
       "   'run_as_user_name': 'adam.kowalski@cloudfide.com',\n",
       "   'settings': {'name': 'Databricks Training Workflow - Part 2',\n",
       "    'email_notifications': {'no_alert_for_skipped_runs': False},\n",
       "    'timeout_seconds': 0,\n",
       "    'max_concurrent_runs': 1,\n",
       "    'format': 'MULTI_TASK',\n",
       "    'queue': {'enabled': True}},\n",
       "   'created_time': 1726801438922},\n",
       "  {'job_id': 123120316666707,\n",
       "   'creator_user_name': 'adam.kowalski@cloudfide.com',\n",
       "   'run_as_user_name': 'adam.kowalski@cloudfide.com',\n",
       "   'settings': {'name': 'Databricks Training Workflow - Part 1',\n",
       "    'email_notifications': {'no_alert_for_skipped_runs': False},\n",
       "    'timeout_seconds': 0,\n",
       "    'max_concurrent_runs': 1,\n",
       "    'format': 'MULTI_TASK',\n",
       "    'queue': {'enabled': True}},\n",
       "   'created_time': 1726801361831},\n",
       "  {'job_id': 360443960002392,\n",
       "   'creator_user_name': 'adam.kowalski@cloudfide.com',\n",
       "   'run_as_user_name': 'adam.kowalski@cloudfide.com',\n",
       "   'settings': {'name': 'Databricks Training Workflow - Marketing Data',\n",
       "    'email_notifications': {'no_alert_for_skipped_runs': False},\n",
       "    'timeout_seconds': 0,\n",
       "    'max_concurrent_runs': 1,\n",
       "    'format': 'MULTI_TASK',\n",
       "    'queue': {'enabled': True}},\n",
       "   'created_time': 1726640484859},\n",
       "  {'job_id': 667811987802624,\n",
       "   'settings': {'name': 'sample_job_3',\n",
       "    'email_notifications': {'no_alert_for_skipped_runs': False},\n",
       "    'timeout_seconds': 0,\n",
       "    'max_concurrent_runs': 1,\n",
       "    'format': 'MULTI_TASK'},\n",
       "   'created_time': 1698338602067},\n",
       "  {'job_id': 768213924650728,\n",
       "   'settings': {'name': 'sample_job_4',\n",
       "    'email_notifications': {'no_alert_for_skipped_runs': False},\n",
       "    'timeout_seconds': 0,\n",
       "    'max_concurrent_runs': 1,\n",
       "    'format': 'MULTI_TASK'},\n",
       "   'created_time': 1698338441738}],\n",
       " 'has_more': False}"
      ]
     },
     "execution_count": 4,
     "metadata": {},
     "output_type": "execute_result"
    }
   ],
   "source": [
    "requests.get(f\"{API_URL}/jobs/list\", headers=headers).json()"
   ]
  },
  {
   "cell_type": "code",
   "execution_count": 0,
   "metadata": {
    "application/vnd.databricks.v1+cell": {
     "cellMetadata": {
      "byteLimit": 2048000,
      "rowLimit": 10000
     },
     "inputWidgets": {},
     "nuid": "bcd32410-16d7-4d71-9895-368680d91635",
     "showTitle": true,
     "tableResultSettingsMap": {},
     "title": "sample json from code"
    }
   },
   "outputs": [],
   "source": [
    "cluster_body = {\n",
    "  \"name\": \"my_dream_job\",\n",
    "  \"email_notifications\": {\n",
    "    \"no_alert_for_skipped_runs\": \"false\"\n",
    "  },\n",
    "  \"webhook_notifications\": {},\n",
    "  \"timeout_seconds\": 0,\n",
    "  \"schedule\": {\n",
    "    \"quartz_cron_expression\": \"50 50 16 * * ?\",\n",
    "    \"timezone_id\": \"UTC\",\n",
    "    \"pause_status\": \"PAUSED\"\n",
    "  },\n",
    "  \"max_concurrent_runs\": 1,\n",
    "  \"tasks\": [\n",
    "    {\n",
    "      \"task_key\": \"zapis_wina\",\n",
    "      \"run_if\": \"ALL_SUCCESS\",\n",
    "      \"notebook_task\": {\n",
    "        \"notebook_path\": \"/Workspace/Users/dominik.trznadel@cloudfide.com/sample_notebook\",\n",
    "        \"source\": \"WORKSPACE\"\n",
    "      },\n",
    "      \"job_cluster_key\": \"Job_cluster\",\n",
    "      \"timeout_seconds\": 0,\n",
    "      \"email_notifications\": {},\n",
    "      \"notification_settings\": {\n",
    "        \"no_alert_for_skipped_runs\": \"false\",\n",
    "        \"no_alert_for_canceled_runs\": \"false\",\n",
    "        \"alert_on_last_attempt\": \"false\"\n",
    "      },\n",
    "      \"webhook_notifications\": {}\n",
    "    }\n",
    "  ],\n",
    "  \"job_clusters\": [\n",
    "    {\n",
    "      \"job_cluster_key\": \"Job_cluster\",\n",
    "      \"new_cluster\": {\n",
    "        \"cluster_name\": \"\",\n",
    "        \"spark_version\": \"13.3.x-scala2.12\",\n",
    "        \"azure_attributes\": {\n",
    "          \"first_on_demand\": 1,\n",
    "          \"availability\": \"ON_DEMAND_AZURE\",\n",
    "          \"spot_bid_max_price\": -1\n",
    "        },\n",
    "        \"node_type_id\": \"Standard_DS3_v2\",\n",
    "        \"spark_env_vars\": {\n",
    "          \"PYSPARK_PYTHON\": \"/databricks/python3/bin/python3\"\n",
    "        },\n",
    "        \"enable_elastic_disk\": \"true\",\n",
    "        \"data_security_mode\": \"SINGLE_USER\",\n",
    "        \"runtime_engine\": \"PHOTON\",\n",
    "        \"num_workers\": 1\n",
    "      }\n",
    "    }\n",
    "  ],\n",
    "  \"run_as\": {\n",
    "    \"user_name\": \"dominik.trznadel@cloudfide.com\"\n",
    "  }\n",
    "}"
   ]
  },
  {
   "cell_type": "code",
   "execution_count": 0,
   "metadata": {
    "application/vnd.databricks.v1+cell": {
     "cellMetadata": {
      "byteLimit": 2048000,
      "rowLimit": 10000
     },
     "inputWidgets": {},
     "nuid": "56c709ff-da48-4939-bc54-d619dc099842",
     "showTitle": true,
     "tableResultSettingsMap": {},
     "title": "create job"
    }
   },
   "outputs": [
    {
     "output_type": "execute_result",
     "data": {
      "text/plain": [
       "{'job_id': 623914490898187}"
      ]
     },
     "execution_count": 6,
     "metadata": {},
     "output_type": "execute_result"
    }
   ],
   "source": [
    "requests.post(f\"{API_URL}/jobs/create\", headers=headers, data=json.dumps(cluster_body)).json()"
   ]
  },
  {
   "cell_type": "code",
   "execution_count": 0,
   "metadata": {
    "application/vnd.databricks.v1+cell": {
     "cellMetadata": {
      "byteLimit": 2048000,
      "rowLimit": 10000
     },
     "inputWidgets": {},
     "nuid": "7249e880-a828-4744-87fb-7b093e4222aa",
     "showTitle": false,
     "tableResultSettingsMap": {},
     "title": ""
    }
   },
   "outputs": [],
   "source": [
    "API_URL_REPOS = \"https://\" + spark.conf.get(\"spark.databricks.workspaceUrl\") + \"/api/2.0/repos\""
   ]
  },
  {
   "cell_type": "code",
   "execution_count": 0,
   "metadata": {
    "application/vnd.databricks.v1+cell": {
     "cellMetadata": {
      "byteLimit": 2048000,
      "rowLimit": 10000
     },
     "inputWidgets": {},
     "nuid": "9ae87ab2-df78-49fd-82c5-264f06c86252",
     "showTitle": false,
     "tableResultSettingsMap": {},
     "title": ""
    }
   },
   "outputs": [],
   "source": [
    "data={\"url\": \"https://cloudfide@dev.azure.com/cloudfide/Data%20Science%20Training/_git/Data%20Science%20Training\",\n",
    "      \"provider\": \"azureDevOpsServices\",\n",
    "      \"path\": \"/Repos/dominik.trznadel@cloudfide.com/cicd_repo\"}"
   ]
  },
  {
   "cell_type": "code",
   "execution_count": 0,
   "metadata": {
    "application/vnd.databricks.v1+cell": {
     "cellMetadata": {
      "byteLimit": 2048000,
      "rowLimit": 10000
     },
     "inputWidgets": {},
     "nuid": "454e6301-82e5-426f-be5e-bae34a566bd1",
     "showTitle": true,
     "tableResultSettingsMap": {},
     "title": "create repo"
    }
   },
   "outputs": [
    {
     "output_type": "execute_result",
     "data": {
      "text/plain": [
       "{'id': 2876776049925955,\n",
       " 'path': '/Repos/dominik.trznadel@cloudfide.com/cicd_repo',\n",
       " 'url': 'https://cloudfide@dev.azure.com/cloudfide/Data%20Science%20Training/_git/Data%20Science%20Training',\n",
       " 'provider': 'azureDevOpsServices',\n",
       " 'branch': 'main',\n",
       " 'head_commit_id': 'c1aba6c110f33b64c2e2071ffd9c74da0bdd62bc'}"
      ]
     },
     "execution_count": 10,
     "metadata": {},
     "output_type": "execute_result"
    }
   ],
   "source": [
    "requests.post(API_URL_REPOS, headers=headers,data=json.dumps(data)).json()"
   ]
  },
  {
   "cell_type": "code",
   "execution_count": 0,
   "metadata": {
    "application/vnd.databricks.v1+cell": {
     "cellMetadata": {
      "byteLimit": 2048000,
      "rowLimit": 10000
     },
     "inputWidgets": {},
     "nuid": "92df9180-9887-40b7-9ebc-fc805410cd40",
     "showTitle": false,
     "tableResultSettingsMap": {},
     "title": ""
    }
   },
   "outputs": [],
   "source": [
    "data={\"path_prefix\": \"/Repos/dominik.trznadel@cloudfide.com/cicd_repo\"}"
   ]
  },
  {
   "cell_type": "code",
   "execution_count": 0,
   "metadata": {
    "application/vnd.databricks.v1+cell": {
     "cellMetadata": {
      "byteLimit": 2048000,
      "rowLimit": 10000
     },
     "inputWidgets": {},
     "nuid": "7f9c8f28-8ddf-40c2-9b0c-41ae10014834",
     "showTitle": false,
     "tableResultSettingsMap": {},
     "title": ""
    }
   },
   "outputs": [],
   "source": [
    "repo_id = requests.get(API_URL_REPOS, headers=headers, data=json.dumps(data)).json()['repos'][0]['id']"
   ]
  },
  {
   "cell_type": "code",
   "execution_count": 0,
   "metadata": {
    "application/vnd.databricks.v1+cell": {
     "cellMetadata": {
      "byteLimit": 2048000,
      "rowLimit": 10000
     },
     "inputWidgets": {},
     "nuid": "8822cfd2-904a-4e3d-bbfc-0595df1ad8f0",
     "showTitle": false,
     "tableResultSettingsMap": {},
     "title": ""
    }
   },
   "outputs": [
    {
     "output_type": "execute_result",
     "data": {
      "text/plain": [
       "2876776049925955"
      ]
     },
     "execution_count": 13,
     "metadata": {},
     "output_type": "execute_result"
    }
   ],
   "source": [
    "repo_id"
   ]
  },
  {
   "cell_type": "code",
   "execution_count": 0,
   "metadata": {
    "application/vnd.databricks.v1+cell": {
     "cellMetadata": {
      "byteLimit": 2048000,
      "rowLimit": 10000
     },
     "inputWidgets": {},
     "nuid": "ca91d11e-eddd-4f2f-991c-b8c9a82869fc",
     "showTitle": false,
     "tableResultSettingsMap": {},
     "title": ""
    }
   },
   "outputs": [],
   "source": [
    "requests.delete(f\"{API_URL_REPOS}/{repo_id}\", headers=headers).json()"
   ]
  },
  {
   "cell_type": "code",
   "execution_count": 0,
   "metadata": {
    "application/vnd.databricks.v1+cell": {
     "cellMetadata": {
      "byteLimit": 2048000,
      "rowLimit": 10000
     },
     "inputWidgets": {},
     "nuid": "f40a34dd-bab9-4276-a2e2-4f918f918267",
     "showTitle": false,
     "tableResultSettingsMap": {},
     "title": ""
    }
   },
   "outputs": [
    {
     "output_type": "execute_result",
     "data": {
      "text/plain": [
       "{'repos': [{'id': 2876776049925955,\n",
       "   'path': '/Repos/dominik.trznadel@cloudfide.com/cicd_repo',\n",
       "   'url': 'https://cloudfide@dev.azure.com/cloudfide/Data%20Science%20Training/_git/Data%20Science%20Training',\n",
       "   'provider': 'azureDevOpsServices',\n",
       "   'branch': 'main',\n",
       "   'head_commit_id': 'c1aba6c110f33b64c2e2071ffd9c74da0bdd62bc'}]}"
      ]
     },
     "execution_count": 14,
     "metadata": {},
     "output_type": "execute_result"
    }
   ],
   "source": [
    "requests.get(API_URL_REPOS, headers=headers, data=json.dumps(data)).json()"
   ]
  },
  {
   "cell_type": "code",
   "execution_count": 0,
   "metadata": {
    "application/vnd.databricks.v1+cell": {
     "cellMetadata": {
      "byteLimit": 2048000,
      "rowLimit": 10000
     },
     "inputWidgets": {},
     "nuid": "cc1c2da3-da2c-435c-95ee-b1f79b87f621",
     "showTitle": false,
     "tableResultSettingsMap": {},
     "title": ""
    }
   },
   "outputs": [],
   "source": [
    "API_URL_SECRETS = \"https://\" + spark.conf.get(\"spark.databricks.workspaceUrl\") + \"/api/2.0/secrets\""
   ]
  },
  {
   "cell_type": "code",
   "execution_count": 0,
   "metadata": {
    "application/vnd.databricks.v1+cell": {
     "cellMetadata": {
      "byteLimit": 2048000,
      "rowLimit": 10000
     },
     "inputWidgets": {},
     "nuid": "ea80c869-37de-4436-81ac-219b1deaa935",
     "showTitle": false,
     "tableResultSettingsMap": {},
     "title": ""
    }
   },
   "outputs": [
    {
     "output_type": "execute_result",
     "data": {
      "text/plain": [
       "{}"
      ]
     },
     "execution_count": 16,
     "metadata": {},
     "output_type": "execute_result"
    }
   ],
   "source": [
    "requests.get(API_URL_SECRETS + \"/scopes/list\", headers=headers).json()"
   ]
  },
  {
   "cell_type": "code",
   "execution_count": 0,
   "metadata": {
    "application/vnd.databricks.v1+cell": {
     "cellMetadata": {
      "byteLimit": 2048000,
      "rowLimit": 10000
     },
     "inputWidgets": {},
     "nuid": "ee1b2d35-d541-44bd-9281-e4f7d83a4b55",
     "showTitle": false,
     "tableResultSettingsMap": {},
     "title": ""
    }
   },
   "outputs": [],
   "source": [
    "data={\"scope\": \"cicd_training_scope\"}"
   ]
  },
  {
   "cell_type": "code",
   "execution_count": 0,
   "metadata": {
    "application/vnd.databricks.v1+cell": {
     "cellMetadata": {
      "byteLimit": 2048000,
      "rowLimit": 10000
     },
     "inputWidgets": {},
     "nuid": "8d530425-3e33-432d-bb54-48fc438dbd22",
     "showTitle": false,
     "tableResultSettingsMap": {},
     "title": ""
    }
   },
   "outputs": [
    {
     "output_type": "execute_result",
     "data": {
      "text/plain": [
       "{}"
      ]
     },
     "execution_count": 18,
     "metadata": {},
     "output_type": "execute_result"
    }
   ],
   "source": [
    "requests.post(API_URL_SECRETS + \"/scopes/create\", headers=headers, data=json.dumps(data)).json()"
   ]
  },
  {
   "cell_type": "code",
   "execution_count": 0,
   "metadata": {
    "application/vnd.databricks.v1+cell": {
     "cellMetadata": {
      "byteLimit": 2048000,
      "rowLimit": 10000
     },
     "inputWidgets": {},
     "nuid": "9e943457-aea1-4d5b-a13c-f5fec45bd888",
     "showTitle": false,
     "tableResultSettingsMap": {},
     "title": ""
    }
   },
   "outputs": [],
   "source": [
    "data={\"scope\": \"cicd_training_scope\",\n",
    "      \"key\": \"my_secret_password\",\n",
    "      \"string_value\": \"strong_password_1234\"}"
   ]
  },
  {
   "cell_type": "code",
   "execution_count": 0,
   "metadata": {
    "application/vnd.databricks.v1+cell": {
     "cellMetadata": {
      "byteLimit": 2048000,
      "rowLimit": 10000
     },
     "inputWidgets": {},
     "nuid": "9abf48fd-c3c4-4995-bc35-726ad72d82c3",
     "showTitle": false,
     "tableResultSettingsMap": {},
     "title": ""
    }
   },
   "outputs": [
    {
     "output_type": "execute_result",
     "data": {
      "text/plain": [
       "{}"
      ]
     },
     "execution_count": 20,
     "metadata": {},
     "output_type": "execute_result"
    }
   ],
   "source": [
    "requests.post(API_URL_SECRETS + \"/put\", headers=headers, data=json.dumps(data)).json()"
   ]
  },
  {
   "cell_type": "code",
   "execution_count": 0,
   "metadata": {
    "application/vnd.databricks.v1+cell": {
     "cellMetadata": {
      "byteLimit": 2048000,
      "rowLimit": 10000
     },
     "inputWidgets": {},
     "nuid": "be4b90df-9340-440e-8a8c-81886e43d2fc",
     "showTitle": false,
     "tableResultSettingsMap": {},
     "title": ""
    }
   },
   "outputs": [],
   "source": [
    "data={\"scope\": \"cicd_training_scope\"}"
   ]
  },
  {
   "cell_type": "code",
   "execution_count": 0,
   "metadata": {
    "application/vnd.databricks.v1+cell": {
     "cellMetadata": {
      "byteLimit": 2048000,
      "rowLimit": 10000
     },
     "inputWidgets": {},
     "nuid": "900fc328-e918-47a6-8645-6bb0761e0582",
     "showTitle": false,
     "tableResultSettingsMap": {},
     "title": ""
    }
   },
   "outputs": [
    {
     "output_type": "execute_result",
     "data": {
      "text/plain": [
       "{'secrets': [{'key': 'my_secret_password',\n",
       "   'last_updated_timestamp': 1730358145844}]}"
      ]
     },
     "execution_count": 22,
     "metadata": {},
     "output_type": "execute_result"
    }
   ],
   "source": [
    "requests.get(API_URL_SECRETS + \"/list\", headers=headers, data=json.dumps(data)).json()"
   ]
  },
  {
   "cell_type": "code",
   "execution_count": 0,
   "metadata": {
    "application/vnd.databricks.v1+cell": {
     "cellMetadata": {
      "byteLimit": 2048000,
      "rowLimit": 10000
     },
     "inputWidgets": {},
     "nuid": "8a0e60cd-7c30-4d92-abd7-55770a319e9d",
     "showTitle": false,
     "tableResultSettingsMap": {},
     "title": ""
    }
   },
   "outputs": [
    {
     "output_type": "execute_result",
     "data": {
      "text/plain": [
       "'[REDACTED]'"
      ]
     },
     "execution_count": 23,
     "metadata": {},
     "output_type": "execute_result"
    }
   ],
   "source": [
    "dbutils.secrets.get(scope=\"cicd_training_scope\", key=\"my_secret_password\")"
   ]
  },
  {
   "cell_type": "code",
   "execution_count": 0,
   "metadata": {
    "application/vnd.databricks.v1+cell": {
     "cellMetadata": {
      "byteLimit": 2048000,
      "rowLimit": 10000
     },
     "inputWidgets": {},
     "nuid": "f32ef1ca-e2fd-4a89-ac00-e16fb7a91c50",
     "showTitle": false,
     "tableResultSettingsMap": {},
     "title": ""
    }
   },
   "outputs": [],
   "source": [
    "data={\"scope\": \"cicd_training_scope\"}"
   ]
  },
  {
   "cell_type": "code",
   "execution_count": 0,
   "metadata": {
    "application/vnd.databricks.v1+cell": {
     "cellMetadata": {
      "byteLimit": 2048000,
      "rowLimit": 10000
     },
     "inputWidgets": {},
     "nuid": "cc155063-0937-45dd-aa9c-573c5f5c8134",
     "showTitle": false,
     "tableResultSettingsMap": {},
     "title": ""
    }
   },
   "outputs": [
    {
     "output_type": "execute_result",
     "data": {
      "text/plain": [
       "{}"
      ]
     },
     "execution_count": 25,
     "metadata": {},
     "output_type": "execute_result"
    }
   ],
   "source": [
    "requests.post(API_URL_SECRETS + \"/scopes/delete\", headers=headers, json=data).json()"
   ]
  }
 ],
 "metadata": {
  "application/vnd.databricks.v1+notebook": {
   "dashboards": [],
   "environmentMetadata": {
    "base_environment": "",
    "client": "1"
   },
   "language": "python",
   "notebookMetadata": {
    "pythonIndentUnit": 4
   },
   "notebookName": "API CICD",
   "widgets": {}
  },
  "language_info": {
   "name": "python"
  }
 },
 "nbformat": 4,
 "nbformat_minor": 0
}
